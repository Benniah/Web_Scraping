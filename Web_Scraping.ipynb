{
 "cells": [
  {
   "cell_type": "code",
   "execution_count": null,
   "metadata": {},
   "outputs": [],
   "source": [
    "#importing CSV Files from Computer\n",
    "import pandas as pd\n",
    "df = pd.read_csv('examp.csv')\n",
    "print(df)\n",
    "\n",
    "#importing CSV files from the Web \" Webscraping \"\n",
    "c = pd.read_csv(\"https://raw.githubusercontent.com/cs109/2014_data/master/countries.csv\")\n",
    "[nrows,ncols]=c.shape\n",
    "number_of_dims=c.ndim\n",
    "\n",
    "x1 = c.head()\n",
    "x2 = c.tail()\n",
    "dt = c.dtypes\n",
    "\n",
    "\n",
    "#Describing Datasets\n",
    "stats_df = df.describe()\n",
    "print(stats_df)\n",
    "stats_c = c.describe()\n",
    "print(stats_c)\n"
   ]
  }
 ],
 "metadata": {
  "kernelspec": {
   "display_name": "Python 3",
   "language": "python",
   "name": "python3"
  },
  "language_info": {
   "codemirror_mode": {
    "name": "ipython",
    "version": 3
   },
   "file_extension": ".py",
   "mimetype": "text/x-python",
   "name": "python",
   "nbconvert_exporter": "python",
   "pygments_lexer": "ipython3",
   "version": "3.7.3"
  }
 },
 "nbformat": 4,
 "nbformat_minor": 2
}
